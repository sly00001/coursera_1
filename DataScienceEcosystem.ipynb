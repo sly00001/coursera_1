{
 "cells": [
  {
   "cell_type": "markdown",
   "id": "dd086160-cb1d-4877-b1be-828d43f9ba68",
   "metadata": {},
   "source": [
    "# Data Science Tools and Ecosystem"
   ]
  },
  {
   "cell_type": "markdown",
   "id": "6d09aff6-1d3e-495f-860a-2184bdb68ca1",
   "metadata": {},
   "source": [
    "In this notebook, Data Science Tools and Ecosystem are summarized."
   ]
  },
  {
   "cell_type": "markdown",
   "id": "4d4ead2c-8115-4202-bbe8-b3ba3964bb6e",
   "metadata": {},
   "source": [
    "__Objectives:__\n",
    "- List of popular languages for Data Science -\n",
    "- Libraries commonly used by Data Scientists -\n",
    "- Data Science Tools -\n",
    "- Examples of evaluating arithmetic expressions in Python -"
   ]
  },
  {
   "cell_type": "markdown",
   "id": "22bb9444-d29e-41a2-a5f6-9bfa68440348",
   "metadata": {},
   "source": [
    "#### Some of the popular languages that Data Scientists use are:\r",
    "1. Python\n",
    "2. R\n",
    "3. C++\n"
   ]
  },
  {
   "cell_type": "markdown",
   "id": "8ed48eeb-5de9-4d11-9e09-0708535bd338",
   "metadata": {},
   "source": [
    "#### Some of the commonly used libraries by Data Scientists include:\r",
    "1. TensorFlow\n",
    "2. NumPy\n",
    "3. SciPy\n",
    "4. Pandas\n",
    "5. Matplotlib \n",
    "\n"
   ]
  },
  {
   "cell_type": "markdown",
   "id": "f7d129d1-ff37-4461-b640-963ac56ba687",
   "metadata": {},
   "source": [
    "| Data Science Tools |\n",
    "----------------------\n",
    "| RStudio |\n",
    "| Apache Spark |\n",
    "| TensorFlow |\n",
    "\n",
    "\n",
    "\n",
    "\n"
   ]
  },
  {
   "cell_type": "markdown",
   "id": "00a3a844-fa3e-4110-8bd0-d00deef3e010",
   "metadata": {},
   "source": [
    "### Below are a few examples of evaluating arithmetic expressions in Python.\r\n"
   ]
  },
  {
   "cell_type": "code",
   "execution_count": 18,
   "id": "3dc9d8e3-a98a-4b9f-8df9-292a8de21c29",
   "metadata": {},
   "outputs": [
    {
     "data": {
      "text/plain": [
       "17"
      ]
     },
     "execution_count": 18,
     "metadata": {},
     "output_type": "execute_result"
    }
   ],
   "source": [
    "#This a simple arithmetic expression to mutiply then add integers.\n",
    "(3*4)+5"
   ]
  },
  {
   "cell_type": "code",
   "execution_count": 22,
   "id": "b9e39fef-d15d-490a-b0b3-c79d051335d6",
   "metadata": {},
   "outputs": [
    {
     "data": {
      "text/plain": [
       "3.33"
      ]
     },
     "execution_count": 22,
     "metadata": {},
     "output_type": "execute_result"
    }
   ],
   "source": [
    "#This will convert 200 minutes to hours by diving by 60.\n",
    "round(200/60, 2)"
   ]
  },
  {
   "cell_type": "markdown",
   "id": "c24219ae-f890-4635-86b8-8f36ce7ea391",
   "metadata": {},
   "source": [
    "## Author\n",
    "Sylwester Gebarowski"
   ]
  },
  {
   "cell_type": "code",
   "execution_count": null,
   "id": "5346e879-d82d-4fb2-95fe-74fe1f169dfd",
   "metadata": {},
   "outputs": [],
   "source": []
  }
 ],
 "metadata": {
  "kernelspec": {
   "display_name": "Python 3 (ipykernel)",
   "language": "python",
   "name": "python3"
  },
  "language_info": {
   "codemirror_mode": {
    "name": "ipython",
    "version": 3
   },
   "file_extension": ".py",
   "mimetype": "text/x-python",
   "name": "python",
   "nbconvert_exporter": "python",
   "pygments_lexer": "ipython3",
   "version": "3.11.7"
  }
 },
 "nbformat": 4,
 "nbformat_minor": 5
}
